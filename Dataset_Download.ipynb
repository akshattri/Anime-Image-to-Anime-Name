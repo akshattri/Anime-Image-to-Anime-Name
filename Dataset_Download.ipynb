{
  "nbformat": 4,
  "nbformat_minor": 0,
  "metadata": {
    "colab": {
      "provenance": []
    },
    "kernelspec": {
      "name": "python3",
      "display_name": "Python 3"
    },
    "language_info": {
      "name": "python"
    }
  },
  "cells": [
    {
      "cell_type": "code",
      "execution_count": null,
      "metadata": {
        "colab": {
          "base_uri": "https://localhost:8080/"
        },
        "id": "JRDosD-8Otn8",
        "outputId": "5f48404b-3858-44fe-dc4d-1360ae065f6b"
      },
      "outputs": [
        {
          "output_type": "stream",
          "name": "stdout",
          "text": [
            "Looking in indexes: https://pypi.org/simple, https://us-python.pkg.dev/colab-wheels/public/simple/\n",
            "Requirement already satisfied: opencv-python in /usr/local/lib/python3.10/dist-packages (4.7.0.72)\n",
            "Requirement already satisfied: numpy>=1.17.0 in /usr/local/lib/python3.10/dist-packages (from opencv-python) (1.22.4)\n"
          ]
        }
      ],
      "source": [
        "!pip install opencv-python"
      ]
    },
    {
      "cell_type": "code",
      "source": [
        "import cv2"
      ],
      "metadata": {
        "id": "_c2jbMJ8Ow9e"
      },
      "execution_count": null,
      "outputs": []
    },
    {
      "cell_type": "code",
      "source": [
        "cam = cv2.VideoCapture(\"/content/drive/MyDrive/Grave of the Fireflies (1988).mkv\")\n",
        "fps = cam.get(cv2.CAP_PROP_FPS)\n",
        "fps"
      ],
      "metadata": {
        "colab": {
          "base_uri": "https://localhost:8080/"
        },
        "id": "6qk5mda1O0k6",
        "outputId": "5a418201-431a-46f3-f0a6-a34363851976"
      },
      "execution_count": null,
      "outputs": [
        {
          "output_type": "execute_result",
          "data": {
            "text/plain": [
              "23.976023976023978"
            ]
          },
          "metadata": {},
          "execution_count": 3
        }
      ]
    },
    {
      "cell_type": "code",
      "source": [
        "n = 0\n",
        "i = 0\n",
        "if cam.isOpened():\n",
        " while True:\n",
        "    ret,frame = cam.read()\n",
        "    if(n % 25 == 0):\n",
        "      cv2.imwrite(\"/content/drive/MyDrive/Sample/%d.png\" %i,frame)\n",
        "      i+=1\n",
        "    n+=1\n",
        "    if ret == False:\n",
        "      break\n",
        "cam.release()"
      ],
      "metadata": {
        "id": "fB_WKFM5O3CZ"
      },
      "execution_count": null,
      "outputs": []
    }
  ]
}